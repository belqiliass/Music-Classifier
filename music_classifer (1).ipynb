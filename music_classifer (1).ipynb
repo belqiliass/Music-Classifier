{
  "nbformat": 4,
  "nbformat_minor": 0,
  "metadata": {
    "colab": {
      "name": "music classifer",
      "provenance": [],
      "collapsed_sections": []
    },
    "kernelspec": {
      "name": "python3",
      "display_name": "Python 3"
    }
  },
  "cells": [
    {
      "cell_type": "markdown",
      "metadata": {
        "id": "dcmBDRJKI_5Q",
        "colab_type": "text"
      },
      "source": [
        "importing the necessary libraries"
      ]
    },
    {
      "cell_type": "code",
      "metadata": {
        "id": "GGqCyhB0hslv",
        "colab_type": "code",
        "colab": {}
      },
      "source": [
        "import numpy\n",
        "import pandas\n",
        "import joblib\n",
        "\n",
        "from sklearn.neighbors import KNeighborsClassifier\n",
        "from sklearn.ensemble import RandomForestClassifier\n",
        "from sklearn.svm import SVC\n",
        "from sklearn.model_selection import cross_val_score\n",
        "from sklearn.preprocessing import LabelEncoder\n",
        "from sklearn.model_selection import train_test_split\n",
        "import numpy as np"
      ],
      "execution_count": null,
      "outputs": []
    },
    {
      "cell_type": "markdown",
      "metadata": {
        "id": "7Ycu5_oQJOVd",
        "colab_type": "text"
      },
      "source": [
        "reading the data and encoding the labels for better performence"
      ]
    },
    {
      "cell_type": "code",
      "metadata": {
        "id": "IV-ujoG_hyXN",
        "colab_type": "code",
        "colab": {
          "base_uri": "https://localhost:8080/",
          "height": 34
        },
        "outputId": "562c556a-7007-4a19-ff9f-cca50ba84cf8"
      },
      "source": [
        "with open('mfccdata2.npy', 'rb') as f:\n",
        "    data_set=np.load(f)\n",
        "print(\"Dataset shape:\", data_set.shape)"
      ],
      "execution_count": null,
      "outputs": [
        {
          "output_type": "stream",
          "text": [
            "Dataset shape: (1000, 20, 130)\n"
          ],
          "name": "stdout"
        }
      ]
    },
    {
      "cell_type": "code",
      "metadata": {
        "id": "tkF8tvxFth5S",
        "colab_type": "code",
        "colab": {
          "base_uri": "https://localhost:8080/",
          "height": 34
        },
        "outputId": "04fb4e47-e69b-417e-a2b2-e18b67902784"
      },
      "source": [
        "with open('labels2.npy', 'rb') as f:\n",
        "    labels=np.load(f)\n",
        "print(\"labels shape:\", labels.shape)"
      ],
      "execution_count": null,
      "outputs": [
        {
          "output_type": "stream",
          "text": [
            "labels shape: (1000,)\n"
          ],
          "name": "stdout"
        }
      ]
    },
    {
      "cell_type": "code",
      "metadata": {
        "id": "SsDMAFCphovm",
        "colab_type": "code",
        "colab": {}
      },
      "source": [
        "encoder = LabelEncoder()\n",
        "labels = encoder.fit_transform(labels)"
      ],
      "execution_count": null,
      "outputs": []
    },
    {
      "cell_type": "code",
      "metadata": {
        "id": "mh7ZNnhfybRG",
        "colab_type": "code",
        "colab": {
          "base_uri": "https://localhost:8080/",
          "height": 51
        },
        "outputId": "103b8e9b-b9a5-4bed-9577-6f541ebae835"
      },
      "source": [
        "print(labels.shape)\n",
        "print(data_set.shape)"
      ],
      "execution_count": null,
      "outputs": [
        {
          "output_type": "stream",
          "text": [
            "(1000,)\n",
            "(1000, 20, 130)\n"
          ],
          "name": "stdout"
        }
      ]
    },
    {
      "cell_type": "code",
      "metadata": {
        "id": "WG2xjLYUt6G8",
        "colab_type": "code",
        "colab": {}
      },
      "source": [
        "x=data_set\n",
        "y=labels"
      ],
      "execution_count": null,
      "outputs": []
    },
    {
      "cell_type": "code",
      "metadata": {
        "id": "epURSVKgyo5L",
        "colab_type": "code",
        "colab": {
          "base_uri": "https://localhost:8080/",
          "height": 34
        },
        "outputId": "51f0aaa0-293a-45bb-a445-f1766e4261ab"
      },
      "source": [
        "print(\"recommended number of hidden layers\",int(800/(2*(10+36))))"
      ],
      "execution_count": null,
      "outputs": [
        {
          "output_type": "stream",
          "text": [
            "recommended number of hidden layers 8\n"
          ],
          "name": "stdout"
        }
      ]
    },
    {
      "cell_type": "markdown",
      "metadata": {
        "id": "7X57zQ3RJY27",
        "colab_type": "text"
      },
      "source": [
        "Random Forset Classifier"
      ]
    },
    {
      "cell_type": "code",
      "metadata": {
        "id": "qkz6nIRhh_u9",
        "colab_type": "code",
        "colab": {}
      },
      "source": [
        "rf = RandomForestClassifier(n_estimators=150)\n",
        "scores = cross_val_score(rf, x, y, cv=5)\n",
        "print(\"Accuracy: %0.2f (+/- %0.2f)\" % (scores.mean(), scores.std() * 2))"
      ],
      "execution_count": null,
      "outputs": []
    },
    {
      "cell_type": "markdown",
      "metadata": {
        "id": "fXvARrLWJeLP",
        "colab_type": "text"
      },
      "source": [
        "Support Vector Classifer"
      ]
    },
    {
      "cell_type": "code",
      "metadata": {
        "id": "wEWsgy97h26d",
        "colab_type": "code",
        "colab": {
          "base_uri": "https://localhost:8080/",
          "height": 34
        },
        "outputId": "5dca92f6-40e1-473f-f033-5cc7bf333474"
      },
      "source": [
        "svc = SVC(C=35, gamma=0.08)\n",
        "scores = cross_val_score(svc, x, y, cv=5)\n",
        "print(\"Accuracy: %0.2f (+/- %0.2f)\" % (scores.mean(), scores.std() * 2))"
      ],
      "execution_count": null,
      "outputs": [
        {
          "output_type": "stream",
          "text": [
            "Accuracy: 0.57 (+/- 0.07)\n"
          ],
          "name": "stdout"
        }
      ]
    },
    {
      "cell_type": "markdown",
      "metadata": {
        "id": "7t1S6R1SUi7r",
        "colab_type": "text"
      },
      "source": [
        "KNN Classifer "
      ]
    },
    {
      "cell_type": "code",
      "metadata": {
        "id": "krJ04OMgxEYn",
        "colab_type": "code",
        "colab": {
          "base_uri": "https://localhost:8080/",
          "height": 34
        },
        "outputId": "6ec9abd2-6c57-4488-b5da-9e16d35a9353"
      },
      "source": [
        "knn = KNeighborsClassifier(n_neighbors=6)\n",
        "scores = cross_val_score(knn, x, y, cv=5)\n",
        "print(\"Accuracy: %0.2f (+/- %0.2f)\" % (scores.mean(), scores.std() * 2))"
      ],
      "execution_count": null,
      "outputs": [
        {
          "output_type": "stream",
          "text": [
            "Accuracy: 0.46 (+/- 0.07)\n"
          ],
          "name": "stdout"
        }
      ]
    },
    {
      "cell_type": "markdown",
      "metadata": {
        "id": "wuA8Ntm8UmMT",
        "colab_type": "text"
      },
      "source": [
        "ANN with Adam optimizer and drop out"
      ]
    },
    {
      "cell_type": "code",
      "metadata": {
        "id": "PGOytVOq835a",
        "colab_type": "code",
        "colab": {
          "base_uri": "https://localhost:8080/",
          "height": 34
        },
        "outputId": "bb9d2a27-7fe7-435f-ce19-15e853d1bf1b"
      },
      "source": [
        "from keras import models\n",
        "from keras import layers\n",
        "from keras import Input\n",
        "from keras.constraints import maxnorm\n",
        "from keras.optimizers import adam\n",
        "from keras.applications import VGG16\n",
        "from keras.utils.np_utils import to_categorical\n",
        "from tensorflow.keras import backend as K"
      ],
      "execution_count": null,
      "outputs": [
        {
          "output_type": "stream",
          "text": [
            "Using TensorFlow backend.\n"
          ],
          "name": "stderr"
        }
      ]
    },
    {
      "cell_type": "code",
      "metadata": {
        "id": "A8qjvsF9ezSS",
        "colab_type": "code",
        "colab": {}
      },
      "source": [
        "scores = []\n",
        "for i in range(20) : \n",
        "  X_train, X_test, y_train, y_test = train_test_split(x, y, test_size=0.2)\n",
        "  model = models.Sequential()\n",
        "  model.add(layers.Dense(256, activation='relu',input_shape=(X_train.shape[1],)))\n",
        "  model.add(layers.Dense(128, activation='relu'))\n",
        "  model.add(layers.Dropout(0.2))\n",
        "  model.add(layers.Dense(64, activation='relu',kernel_constraint=maxnorm(3)))\n",
        "  model.add(layers.Dense(10, activation='softmax'))\n",
        "\n",
        "  ada = adam(learning_rate=0.007, beta_1=0.9, beta_2=0.999, epsilon=1e-07)\n",
        "\n",
        "  model.compile(optimizer= ada, loss='sparse_categorical_crossentropy', metrics=['accuracy'])\n",
        "  model.fit(X_train, y_train, epochs=20, batch_size=70,verbose=0)\n",
        "\n",
        "  test_loss, test_acc = model.evaluate(X_test,y_test)\n",
        "  scores+=[test_acc]\n",
        "scores=np.array(scores)\n",
        "print(\"Accuracy: %0.2f (+/- %0.2f)\" % (scores.mean(), scores.std() * 2))\n",
        "#best accuracy so far is Dense NN"
      ],
      "execution_count": null,
      "outputs": []
    },
    {
      "cell_type": "markdown",
      "metadata": {
        "id": "lmSwlIPOsspt",
        "colab_type": "text"
      },
      "source": [
        "Classification using CNN"
      ]
    },
    {
      "cell_type": "markdown",
      "metadata": {
        "id": "vINPcjnTswgT",
        "colab_type": "text"
      },
      "source": [
        "Import mfcc data :"
      ]
    },
    {
      "cell_type": "code",
      "metadata": {
        "id": "1FXSvDPJdYDm",
        "colab_type": "code",
        "colab": {
          "base_uri": "https://localhost:8080/",
          "height": 34
        },
        "outputId": "507d6c6e-e2b2-425f-bcbe-15c608967a16"
      },
      "source": [
        "with open('mfccdata.npy', 'rb') as f:\n",
        "    data_set=np.load(f)\n",
        "print(\"Dataset shape:\", data_set.shape)"
      ],
      "execution_count": null,
      "outputs": [
        {
          "output_type": "stream",
          "text": [
            "Dataset shape: (1000, 128, 130)\n"
          ],
          "name": "stdout"
        }
      ]
    },
    {
      "cell_type": "code",
      "metadata": {
        "id": "417tjun9dgU-",
        "colab_type": "code",
        "colab": {
          "base_uri": "https://localhost:8080/",
          "height": 34
        },
        "outputId": "141aa934-a68b-4a32-e7a7-d0efc686c27c"
      },
      "source": [
        "with open('labels2.npy', 'rb') as f:\n",
        "    labels=np.load(f)\n",
        "print(\"labels shape:\", labels.shape)"
      ],
      "execution_count": null,
      "outputs": [
        {
          "output_type": "stream",
          "text": [
            "labels shape: (1000,)\n"
          ],
          "name": "stdout"
        }
      ]
    },
    {
      "cell_type": "markdown",
      "metadata": {
        "id": "erfpxLWLs0Ty",
        "colab_type": "text"
      },
      "source": [
        "label encoding :"
      ]
    },
    {
      "cell_type": "code",
      "metadata": {
        "id": "3YJcmSSDoCTB",
        "colab_type": "code",
        "colab": {}
      },
      "source": [
        "x = data_set\n",
        "\n",
        "encoder = LabelEncoder()\n",
        "labels = encoder.fit_transform(labels)\n",
        "\n",
        "y = labels\n",
        "y = to_categorical(y,num_classes=10)"
      ],
      "execution_count": null,
      "outputs": []
    },
    {
      "cell_type": "markdown",
      "metadata": {
        "id": "ZJVdYsEtusfT",
        "colab_type": "text"
      },
      "source": [
        "defining parameters :"
      ]
    },
    {
      "cell_type": "code",
      "metadata": {
        "id": "qXytOr1an61Y",
        "colab_type": "code",
        "colab": {}
      },
      "source": [
        "SEED = 42\n",
        "CONV_FILTER_COUNT = 256\n",
        "BATCH_SIZE = 32\n",
        "EPOCH_COUNT = 100\n",
        "X_train, X_test, y_train, y_test = train_test_split(x, y, test_size=0.2)\n",
        "n_features = X_train.shape[2]\n",
        "input_shape = (None, n_features)\n",
        "model_input = Input(input_shape, name='input')\n",
        "layer = model_input"
      ],
      "execution_count": null,
      "outputs": []
    },
    {
      "cell_type": "markdown",
      "metadata": {
        "id": "LFZ5qfB9vHGe",
        "colab_type": "text"
      },
      "source": [
        "Importing libraries :"
      ]
    },
    {
      "cell_type": "code",
      "metadata": {
        "id": "khc2pEeZ_oco",
        "colab_type": "code",
        "colab": {}
      },
      "source": [
        "from keras.models import Sequential\n",
        "from keras.layers import Activation\n",
        "from keras.layers import Dense\n",
        "from keras.layers import Dropout\n",
        "from keras.layers import Flatten\n",
        "from keras.layers import Conv1D\n",
        "from keras.layers import MaxPooling1D\n",
        "from keras.layers import Conv2D\n",
        "from keras.layers import MaxPooling2D\n",
        "from keras.layers import AveragePooling2D\n",
        "from keras.layers import Input\n",
        "from keras.layers import GRU\n",
        "from keras.layers import LSTM\n",
        "from keras.layers import concatenate\n",
        "from keras.models import Model\n",
        "from keras.applications.vgg16 import VGG16"
      ],
      "execution_count": null,
      "outputs": []
    },
    {
      "cell_type": "markdown",
      "metadata": {
        "id": "LVYMr2qQu3jb",
        "colab_type": "text"
      },
      "source": [
        "The architecture :"
      ]
    },
    {
      "cell_type": "code",
      "metadata": {
        "id": "FdgZf5ZT85i9",
        "colab_type": "code",
        "colab": {}
      },
      "source": [
        "scores = []\n",
        "X_train, X_test, y_train, y_test = train_test_split(x, y, test_size=0.2)\n",
        "model = Sequential()\n",
        "input = shape=x.shape[1:]\n",
        "model.add(Conv2D(24, (5, 5), strides=(1, 1), input_shape=input))\n",
        "model.add(AveragePooling2D((2, 2), strides=(2,2)))\n",
        "model.add(Activation('relu'))\n",
        "\n",
        "model.add(Conv2D(48, (5, 5), padding=\"same\"))\n",
        "model.add(AveragePooling2D((2, 2), strides=(2,2)))\n",
        "model.add(Activation('relu'))\n",
        "\n",
        "model.add(Conv2D(48, (5, 5), padding=\"same\"))\n",
        "model.add(AveragePooling2D((2, 2), strides=(2,2)))\n",
        "model.add(Activation('relu'))\n",
        "\n",
        "model.add(Flatten())\n",
        "model.add(Dropout(rate=0.5))\n",
        "\n",
        "model.add(Dense(64))\n",
        "model.add(Activation('relu'))\n",
        "model.add(Dropout(rate=0.5))\n",
        "\n",
        "model.add(Dense(10))\n",
        "model.add(Activation('softmax'))\n",
        "\n",
        "\n",
        "ada = adam(learning_rate=0.01, beta_1=0.9, beta_2=0.999, epsilon=1e-07)\n",
        "\n",
        "model.compile(optimizer= ada, loss='categorical_crossentropy', metrics=['accuracy'])\n",
        "model.fit(X_train, y_train, epochs=EPOCH_COUNT, batch_size=BATCH_SIZE,verbose=1)\n",
        "\n",
        "test_loss, test_acc = model.evaluate(X_test,y_test)\n",
        "print(\"test loss :\",test_loss)\n",
        "print(\"test_accu :\",test_acc)"
      ],
      "execution_count": null,
      "outputs": []
    },
    {
      "cell_type": "code",
      "metadata": {
        "id": "qYa9w4cFPhb4",
        "colab_type": "code",
        "colab": {}
      },
      "source": [
        "model.fit(data_x, y)\n",
        "joblib.dump(model, 'model.pkl')\n",
        "print(\"Trained and saved the model to project folder successfully.\")"
      ],
      "execution_count": null,
      "outputs": []
    }
  ]
}